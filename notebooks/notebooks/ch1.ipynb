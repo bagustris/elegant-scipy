{
 "cells": [
  {
   "cell_type": "markdown",
   "metadata": {},
   "source": [
    "# Elegant NumPy: The Foundation of Scientific Python\n",
    "\n",
    "> [NumPy] is everywhere. It is all around us. Even now, in this very room.\n",
    "> You can see it when you look out your window or when you turn on your\n",
    "> television. You can feel it when you go to work... when you go to church...\n",
    "> when you pay your taxes.\n",
    ">\n",
    "> — Morpheus, *The Matrix*\n",
    "\n",
    "This chapter touches on some statistical functions in SciPy, but more than that, it focuses on exploring the NumPy array, a data structure that underlies almost all numerical scientific computation in Python.\n",
    "We will see how NumPy array operations enable concise and efficient code when manipulating numerical data.\n",
    "\n",
    "Our use case is using gene expression data from The Cancer Genome Atlas (TCGA) project to predict mortality in skin cancer patients.\n",
    "We will be working towards this goal throughout Chapters 1 and 2, learning about some key SciPy concepts along the way.\n",
    "Before we can predict mortality, we will need to normalize the expression data using a method called RPKM normalization.\n",
    "This allows the comparison of measurements between different samples and genes.\n",
    "(We will unpack what \"gene expression\" means in just a moment.)\n",
    "\n",
    "Let's start with a code snippet to tantalize, and motivate the ideas in this chapter.\n",
    "As we will do in each chapter, we open with a code sample that we believe epitomizes the elegance and power of a particular function from the SciPy ecosystem.\n",
    "In this case, we want to highlight NumPy's vectorization and broadcasting rules, which allow us to manipulate and reason about data arrays very efficiently."
   ]
  },
  {
   "cell_type": "code",
   "execution_count": 1,
   "metadata": {},
   "outputs": [],
   "source": [
    "def rpkm(counts, lengths):\n",
    "    \"\"\"Calculate reads per kilobase transcript per million reads.\n",
    "\n",
    "    RPKM = (10^9 * C) / (N * L)\n",
    "\n",
    "    Where:\n",
    "    C = Number of reads mapped to a gene\n",
    "    N = Total mapped reads in the experiment\n",
    "    L = Exon length in base pairs for a gene\n",
    "\n",
    "    Parameters\n",
    "    ----------\n",
    "    counts: array, shape (N_genes, N_samples)\n",
    "        RNAseq (or similar) count data where columns are individual samples\n",
    "        and rows are genes.\n",
    "    lengths: array, shape (N_genes,)\n",
    "        Gene lengths in base pairs in the same order\n",
    "        as the rows in counts.\n",
    "\n",
    "    Returns\n",
    "    -------\n",
    "    normed : array, shape (N_genes, N_samples)\n",
    "        The RPKM normalized counts matrix.\n",
    "    \"\"\"\n",
    "    N = np.sum(counts, axis=0)  # sum each column to get total reads per sample\n",
    "    L = lengths\n",
    "    C = counts\n",
    "\n",
    "    normed = 1e9 * C / (N[np.newaxis, :] * L[:, np.newaxis])\n",
    "\n",
    "    return(normed)"
   ]
  },
  {
   "cell_type": "markdown",
   "metadata": {},
   "source": [
    "This example illustrates some of the ways that NumPy arrays can make your code more elegant:\n",
    "\n",
    "- Arrays can be one-dimensional, like lists, but they can also be two-dimensional, like matrices, and higher-dimensional still. This allows them to represent many different kinds of numerical data. In our case, we are manipulating a 2D matrix.\n",
    "- Arrays can be operated on along *axes*. In the first line, we calculate the\n",
    "  sum down each column by specifying `axis=0`.\n",
    "- Arrays allow the expression of many numerical operations at once.\n",
    "For example towards the end of the function we divide the 2D array of counts (C) by the 1D array of column sums (N).\n",
    "This is broadcasting. More on how this works in just a moment!\n",
    "\n",
    "Before we delve into the power of NumPy, let's spend some time to understand the biological data that we will be working with.\n",
    "\n",
    "## Introduction to the data: what is gene expression?\n",
    "\n",
    "We will work our way through a *gene expression analysis* to demonstrate the power of NumPy and SciPy to solve a real-world biological problem.\n",
    "We will use the Pandas library, which builds on NumPy, to read and munge our data files, and then we manipulate our data efficiently in NumPy arrays.\n",
    "\n",
    "The so-called [central dogma of molecular biology](https://en.wikipedia.org/wiki/Central_dogma_of_molecular_biology) states that all the information needed to run a cell (or an organism, for that matter) is stored in a molecule called *deoxyribonucleic acid*, or DNA.\n",
    "This molecule has a repetitive backbone on which lie chemical groups called *bases*, in sequence.\n",
    "There are four kinds of bases, abbreviated to A, C, G, and T, constituting an alphabet with which information is stored.\n",
    "\n",
    "<img src=\"https://upload.wikimedia.org/wikipedia/commons/e/e4/DNA_chemical_structure.svg\"/>\n",
    "<!-- caption text=\"The chemical structure of DNA. Image by Madeleine Price Ball, used under the terms of the CC0 public domain license\" -->\n",
    "\n",
    "To access this information, the DNA is *transcribed* into a sister molecule called *messenger ribonucleic acid*, or mRNA.\n",
    "Finally, this mRNA is *translated* into proteins, the workhorses of the cell.\n",
    "A section of DNA that encodes the information to make a protein (via mRNA) is called a gene.\n",
    "\n",
    "The amount of mRNA produced from a given gene is called the *expression* of that gene.\n",
    "Although we would ideally like to measure protein levels, this is a much harder task than measuring mRNA.\n",
    "Fortunately, expression levels of an mRNA and levels of its corresponding protein are usually correlated ([Maier, Güell, and Serrano, 2009](http://www.sciencedirect.com/science/article/pii/S0014579309008126)).\n",
    "Therefore, we usually measure mRNA levels and base our analyses on that.\n",
    "As you will see below, it often doesn't matter, because we are using mRNA levels for their power to predict biological outcomes, rather than to make specific statements about proteins.\n",
    "\n",
    "<img src=\"../figures/central_dogma.png\"/>\n",
    "<!-- caption text=\"Central Dogma of Molecular Biology\" -->\n",
    "\n",
    "It's important to note that the DNA in every cell of your body is identical.\n",
    "Thus, the differences between cells arise from *differential expression* of\n",
    "that DNA into RNA: in different cells, different parts of the DNA are processed\n",
    "into downstream molecules. Similarly, as we shall see in this chapter and the\n",
    "next, differential expression can distinguish different kinds of cancer.\n",
    "\n",
    "<img src=\"../figures/differential_gene_expression.png\"/>\n",
    "<!-- caption text=\"Gene expression\" -->\n",
    "\n",
    "The state-of-the-art technology to measure mRNA is RNA sequencing (RNAseq).\n",
    "RNA is extracted from a tissue sample, for example from a biopsy from a patient, *reverse transcribed* back into DNA (which is more stable), and then read out using chemically modified bases that glow when they are incorporated into the DNA sequence.\n",
    "Currently, high-throughput sequencing machines can only read short fragments (approximately 100 bases is common). These short sequences are called “reads”.\n",
    "We measure millions of reads and then based on their sequence we count how many reads came from each gene.\n",
    "We’ll be starting directly from this count data.\n",
    "\n",
    "<img src=\"../figures/RNAseq.png\"/>\n",
    "<!-- caption text=\"RNA sequencing (RNAseq)\" -->\n",
    "\n",
    "Here's an example of what this gene expression data looks like.\n",
    "\n",
    "|        | Cell type A | Cell type B |\n",
    "|--------|-------------|-------------|\n",
    "| Gene 0 | 100         | 200         |\n",
    "| Gene 1 | 50          | 0           |\n",
    "| Gene 2 | 350         | 100         |\n",
    "\n",
    "The data is a table of counts, integers representing how many reads were observed for each gene in each cell type.\n",
    "See how the counts for each gene differ between the cell types?\n",
    "We can use this information to tell us about the differences between these two types of cell.\n",
    "\n",
    "One way to represent this data in Python would be as a list of lists:"
   ]
  },
  {
   "cell_type": "code",
   "execution_count": 2,
   "metadata": {},
   "outputs": [],
   "source": [
    "gene0 = [100, 200]\n",
    "gene1 = [50, 0]\n",
    "gene2 = [350, 100]\n",
    "expression_data = [gene0, gene1, gene2]"
   ]
  },
  {
   "cell_type": "markdown",
   "metadata": {},
   "source": [
    "Above, each gene's expression across different cell types is stored in a list of Python integers.\n",
    "Then, we store all of these lists in a list (a meta-list, if you will).\n",
    "We can retrieve individual data points using two levels of list indexing:"
   ]
  },
  {
   "cell_type": "code",
   "execution_count": 3,
   "metadata": {},
   "outputs": [
    {
     "data": {
      "text/plain": [
       "350"
      ]
     },
     "execution_count": 3,
     "metadata": {},
     "output_type": "execute_result"
    }
   ],
   "source": [
    "expression_data[2][0]"
   ]
  },
  {
   "cell_type": "markdown",
   "metadata": {},
   "source": [
    "It turns out that, because of the way the Python interpreter works, this is a very inefficient way to store these data points.\n",
    "First, Python lists are always lists of *objects*, so that the above list `gene2` is not a list of integers, but a list of *pointers* to integers, which is unnecessary overhead.\n",
    "Additionally, this means that each of these lists and each of these integers end up in a completely different, random part of your computer's RAM.\n",
    "However, modern processors actually like to retrieve things from memory in *chunks*, so this spreading of the data throughout the RAM is inefficient.\n",
    "\n",
    "This is precisely the problem solved by the *NumPy array*.\n",
    "\n",
    "## NumPy N-dimensional arrays\n",
    "\n",
    "One of the key NumPy data types is the N-dimensional array (ndarray, or just array).\n",
    "Ndarrays underpin lots of awesome data manipulation techniques in SciPy.\n",
    "In particular, we're going to explore vectorization and broadcasting,\n",
    "techniques that allow us to write powerful, elegant code to manipulate our data.\n",
    "\n",
    "First, let's get our heads around the the ndarray.\n",
    "These arrays must be homogeneous: all items in an array must be the same type.\n",
    "In our case we will need to store integers.\n",
    "Ndarrays are called N-dimensional because they can have any number of dimensions.\n",
    "A 1-dimensional array is roughly equivalent to a Python list:"
   ]
  },
  {
   "cell_type": "code",
   "execution_count": 4,
   "metadata": {},
   "outputs": [
    {
     "name": "stdout",
     "output_type": "stream",
     "text": [
      "[1 2 3 4]\n",
      "<class 'numpy.ndarray'>\n"
     ]
    }
   ],
   "source": [
    "import numpy as np\n",
    "\n",
    "array1d = np.array([1, 2, 3, 4])\n",
    "print(array1d)\n",
    "print(type(array1d))"
   ]
  },
  {
   "cell_type": "markdown",
   "metadata": {},
   "source": [
    "Arrays have particular attributes and methods, that you can access by placing a dot after the array name.\n",
    "For example, you can get the array's *shape*:"
   ]
  },
  {
   "cell_type": "code",
   "execution_count": 5,
   "metadata": {},
   "outputs": [
    {
     "name": "stdout",
     "output_type": "stream",
     "text": [
      "(4,)\n"
     ]
    }
   ],
   "source": [
    "print(array1d.shape)"
   ]
  },
  {
   "cell_type": "markdown",
   "metadata": {},
   "source": [
    "Here, it's just a tuple with a single number.\n",
    "You might wonder why you wouldn't just use `len`, as you would for a list.\n",
    "That will work, but it doesn't extend to *two-dimensional* arrays.\n",
    "\n",
    "This is what we use to represent our mini gene expression table from above:"
   ]
  },
  {
   "cell_type": "code",
   "execution_count": 6,
   "metadata": {},
   "outputs": [
    {
     "name": "stdout",
     "output_type": "stream",
     "text": [
      "[[100 200]\n",
      " [ 50   0]\n",
      " [350 100]]\n",
      "(3, 2)\n",
      "<class 'numpy.ndarray'>\n"
     ]
    }
   ],
   "source": [
    "array2d = np.array(expression_data)\n",
    "print(array2d)\n",
    "print(array2d.shape)\n",
    "print(type(array2d))"
   ]
  },
  {
   "cell_type": "markdown",
   "metadata": {},
   "source": [
    "Now you can see that the `shape` attribute generalises `len` to account for the size of multiple dimensions of an array of data.\n",
    "\n",
    "<img src=\"../figures/NumPy_ndarrays_v2.png\"/>\n",
    "<!-- caption text=\"Visualizing NumPy's ndarrays in one, two and three dimensions\" -->\n",
    "\n",
    "Arrays have other attributes, such as `ndim`, the number of dimensions:"
   ]
  },
  {
   "cell_type": "code",
   "execution_count": 7,
   "metadata": {},
   "outputs": [
    {
     "name": "stdout",
     "output_type": "stream",
     "text": [
      "2\n"
     ]
    }
   ],
   "source": [
    "print(array2d.ndim)"
   ]
  },
  {
   "cell_type": "markdown",
   "metadata": {},
   "source": [
    "You'll become familiar with all of these as you start to use NumPy more for your own data analysis.\n",
    "\n",
    "NumPy arrays can represent data that has even more dimensions, such as magnetic resonance imaging (MRI) data, which includes measurements within a 3D volume.\n",
    "If we store MRI values over time, we might need a 4D NumPy array.\n",
    "\n",
    "For now, we'll stick to 2D data.\n",
    "Later chapters will introduce higher-dimensional data and will teach you to write code that works for data of any number of dimensions.\n",
    "\n",
    "### Why use ndarrays instead of Python lists?\n",
    "\n",
    "Arrays are fast because they enable vectorized operations, written in the low-level language C, that act on the whole array.\n",
    "Say you have a list and you want to multiply every element in the list by 5.\n",
    "A standard Python approach would be to write a loop that iterates over the\n",
    "elements of the list and multiply each one by 5.\n",
    "However, if your data were instead represented as an array,\n",
    "you can multiply every element in the array by 5 in a single bound.\n",
    "Behind the scenes, the highly-optimized NumPy library is doing the iteration as fast as possible."
   ]
  },
  {
   "cell_type": "code",
   "execution_count": 8,
   "metadata": {},
   "outputs": [],
   "source": [
    "import numpy as np\n",
    "\n",
    "# Create an ndarray of integers in the range\n",
    "# 0 up to (but not including) 1,000,000\n",
    "array = np.arange(1e6)\n",
    "\n",
    "# Convert it to a list\n",
    "list_array = array.tolist()"
   ]
  },
  {
   "cell_type": "markdown",
   "metadata": {},
   "source": [
    "Let's compare how long it takes to multiply all the values in the array by 5,\n",
    "using the IPython `timeit` magic function. First, when the data is in a list:"
   ]
  },
  {
   "cell_type": "code",
   "execution_count": 9,
   "metadata": {},
   "outputs": [
    {
     "name": "stdout",
     "output_type": "stream",
     "text": [
      "62.7 ms ± 1.75 ms per loop (mean ± std. dev. of 7 runs, 10 loops each)\n"
     ]
    }
   ],
   "source": [
    "%timeit -n10 y = [val * 5 for val in list_array]"
   ]
  },
  {
   "cell_type": "markdown",
   "metadata": {},
   "source": [
    "Now, using NumPy's built-in *vectorized* operations:"
   ]
  },
  {
   "cell_type": "code",
   "execution_count": 10,
   "metadata": {},
   "outputs": [
    {
     "name": "stdout",
     "output_type": "stream",
     "text": [
      "1.65 ms ± 158 µs per loop (mean ± std. dev. of 7 runs, 10 loops each)\n"
     ]
    }
   ],
   "source": [
    "%timeit -n10 x = array * 5"
   ]
  },
  {
   "cell_type": "markdown",
   "metadata": {},
   "source": [
    "Over 50 times faster, and more concise, too!\n",
    "\n",
    "Arrays are also size efficient.\n",
    "In Python, each element in a list is an object and is given a healthy memory allocation (or is that unhealthy?).\n",
    "In contrast, in arrays, each element takes up just the necessary amount of memory.\n",
    "For example, an array of 64-bit integers takes up exactly 64-bits per element, plus some very small overhead for array metadata, such as the `shape` attribute we discussed above.\n",
    "This is generally much less than would be given to objects in a python list.\n",
    "(If you're interested in digging into how Python memory allocation works, check out Jake VanderPlas' blog post, [Why Python is Slow: Looking Under the Hood](https://jakevdp.github.io/blog/2014/05/09/why-python-is-slow/).)\n",
    "\n",
    "Plus, when computing with arrays, you can also use *slices* that subset the array *without copying the underlying data*."
   ]
  },
  {
   "cell_type": "code",
   "execution_count": 11,
   "metadata": {},
   "outputs": [
    {
     "name": "stdout",
     "output_type": "stream",
     "text": [
      "[1 2 3]\n"
     ]
    }
   ],
   "source": [
    "# Create an ndarray x\n",
    "x = np.array([1, 2, 3], np.int32)\n",
    "print(x)"
   ]
  },
  {
   "cell_type": "code",
   "execution_count": 12,
   "metadata": {},
   "outputs": [
    {
     "name": "stdout",
     "output_type": "stream",
     "text": [
      "[1 2]\n"
     ]
    }
   ],
   "source": [
    "# Create a \"slice\" of x\n",
    "y = x[:2]\n",
    "print(y)"
   ]
  },
  {
   "cell_type": "code",
   "execution_count": 13,
   "metadata": {},
   "outputs": [
    {
     "name": "stdout",
     "output_type": "stream",
     "text": [
      "[6 2]\n"
     ]
    }
   ],
   "source": [
    "# Set the first element of y to be 6\n",
    "y[0] = 6\n",
    "print(y)"
   ]
  },
  {
   "cell_type": "markdown",
   "metadata": {},
   "source": [
    "Notice that although we edited `y`, `x` has also changed, because `y` was referencing the same data!"
   ]
  },
  {
   "cell_type": "code",
   "execution_count": 14,
   "metadata": {},
   "outputs": [
    {
     "name": "stdout",
     "output_type": "stream",
     "text": [
      "[6 2 3]\n"
     ]
    }
   ],
   "source": [
    "# Now the first element in x has changed to 6!\n",
    "print(x)"
   ]
  },
  {
   "cell_type": "markdown",
   "metadata": {},
   "source": [
    "This does mean you have to be careful with array references.\n",
    "If you want to manipulate the data without touching the original, it's easy to make a copy:"
   ]
  },
  {
   "cell_type": "code",
   "execution_count": 15,
   "metadata": {},
   "outputs": [],
   "source": [
    "y = np.copy(x[:2])"
   ]
  },
  {
   "cell_type": "markdown",
   "metadata": {},
   "source": [
    "### Vectorization\n",
    "\n",
    "Earlier we talked about the speed of operations on arrays.\n",
    "Once of the tricks Numpy uses to speed things up is *vectorization*.\n",
    "Vectorization is where you apply a calculation to each element in an array, without having to use a for loop.\n",
    "In addition to speeding things up, this can result in more natural, readable code.\n",
    "Let's look at some examples."
   ]
  },
  {
   "cell_type": "code",
   "execution_count": 16,
   "metadata": {},
   "outputs": [
    {
     "name": "stdout",
     "output_type": "stream",
     "text": [
      "[2 4 6 8]\n"
     ]
    }
   ],
   "source": [
    "x = np.array([1, 2, 3, 4])\n",
    "print(x * 2)"
   ]
  },
  {
   "cell_type": "markdown",
   "metadata": {},
   "source": [
    "Here, we have `x`, an array of 4 values, and we have implicitly multiplied every element in `x` by 2, a single value."
   ]
  },
  {
   "cell_type": "code",
   "execution_count": 17,
   "metadata": {},
   "outputs": [
    {
     "name": "stdout",
     "output_type": "stream",
     "text": [
      "[1 3 5 5]\n"
     ]
    }
   ],
   "source": [
    "y = np.array([0, 1, 2, 1])\n",
    "print(x + y)"
   ]
  },
  {
   "cell_type": "markdown",
   "metadata": {},
   "source": [
    "Now, we have added together each element in `x` to its corresponding element in `y`, an array of the same shape.\n",
    "\n",
    "Both of these operations are simple and, we hope, intuitive examples of vectorization.\n",
    "NumPy also makes them very fast, much faster than iterating over the arrays manually.\n",
    "(Feel free to play with this yourself using the `%timeit` IPython magic we saw earlier.)\n",
    "\n",
    "### Broadcasting\n",
    "\n",
    "One of the most powerful and often misunderstood features of ndarrays is broadcasting.\n",
    "Broadcasting is a way of performing implicit operations between two arrays.\n",
    "It allows you to perform operations on arrays of *compatible* shapes, to create arrays bigger than either of the starting ones.\n",
    "For example, we can compute the [outer product](https://en.wikipedia.org/wiki/Outer_product) of two vectors, by reshaping them appropriately:"
   ]
  },
  {
   "cell_type": "code",
   "execution_count": 19,
   "metadata": {},
   "outputs": [
    {
     "name": "stdout",
     "output_type": "stream",
     "text": [
      "[[1]\n",
      " [2]\n",
      " [3]\n",
      " [4]]\n"
     ]
    },
    {
     "data": {
      "text/plain": [
       "(4, 1)"
      ]
     },
     "execution_count": 19,
     "metadata": {},
     "output_type": "execute_result"
    }
   ],
   "source": [
    "x = np.array([1, 2, 3, 4])\n",
    "x = np.reshape(x, (len(x), 1))\n",
    "print(x)\n",
    "x.shape"
   ]
  },
  {
   "cell_type": "code",
   "execution_count": 20,
   "metadata": {},
   "outputs": [
    {
     "data": {
      "text/plain": [
       "array([1, 2, 3, 4])"
      ]
     },
     "execution_count": 20,
     "metadata": {},
     "output_type": "execute_result"
    }
   ],
   "source": [
    "# what different with (4,) shape? Let's try\n",
    "x1 = x.reshape((4,))\n",
    "x1"
   ]
  },
  {
   "cell_type": "code",
   "execution_count": 21,
   "metadata": {},
   "outputs": [
    {
     "name": "stdout",
     "output_type": "stream",
     "text": [
      "[[0 1 2 1]]\n"
     ]
    }
   ],
   "source": [
    "y = np.array([0, 1, 2, 1])\n",
    "y = np.reshape(y, (1, len(y)))\n",
    "print(y)"
   ]
  },
  {
   "cell_type": "markdown",
   "metadata": {},
   "source": [
    "Two shapes are compatible when, for each dimension, either is equal to\n",
    "1 (one) or they match one another[^more_dimensions].\n",
    "\n",
    "[^more_dimensions]: We always start by comparing the last dimensions,\n",
    "                    and work our way forward, ignoring excess\n",
    "                    dimensions in the case of one array having more\n",
    "                    than the other.  E.g., `(3, 5, 1)` and `(5, 8)`\n",
    "                    would match.\n",
    "\n",
    "Let's check the shapes of these two arrays."
   ]
  },
  {
   "cell_type": "code",
   "execution_count": 22,
   "metadata": {},
   "outputs": [
    {
     "name": "stdout",
     "output_type": "stream",
     "text": [
      "(4, 1)\n",
      "(1, 4)\n"
     ]
    }
   ],
   "source": [
    "print(x.shape)\n",
    "print(y.shape)"
   ]
  },
  {
   "cell_type": "markdown",
   "metadata": {},
   "source": [
    "Both arrays have two dimensions and the inner dimensions of both arrays are 1, so the dimensions are compatible!"
   ]
  },
  {
   "cell_type": "code",
   "execution_count": 23,
   "metadata": {},
   "outputs": [
    {
     "name": "stdout",
     "output_type": "stream",
     "text": [
      "[[0 1 2 1]\n",
      " [0 2 4 2]\n",
      " [0 3 6 3]\n",
      " [0 4 8 4]]\n"
     ]
    }
   ],
   "source": [
    "outer = x * y\n",
    "print(outer)"
   ]
  },
  {
   "cell_type": "markdown",
   "metadata": {},
   "source": [
    "The outer dimensions tell you how size of the resulting array.\n",
    "In our case we expect a (4, 4) array:"
   ]
  },
  {
   "cell_type": "code",
   "execution_count": 24,
   "metadata": {},
   "outputs": [
    {
     "name": "stdout",
     "output_type": "stream",
     "text": [
      "(4, 4)\n"
     ]
    }
   ],
   "source": [
    "print(outer.shape)"
   ]
  },
  {
   "cell_type": "markdown",
   "metadata": {},
   "source": [
    "You can see for yourself that `outer[i, j] = x[i] * y[j]` for all `(i, j)`.\n",
    "\n",
    "This was accomplished by NumPy's [broadcasting rules](http://docs.scipy.org/doc/numpy/user/basics.broadcasting.html), which implicitly expand dimensions of size 1 in one array to match the corresponding dimension of the other array.\n",
    "Don't worry, we will talk about these rules in more detail later in this chapter.\n",
    "\n",
    "As we will see in the rest of the chapter, as we explore real data, broadcasting is extremely valuable to perform real-world calculations on arrays of data.\n",
    "It allows us to express complex operations concisely and efficiently.\n",
    "\n",
    "## Exploring a gene expression data set\n",
    "\n",
    "The data set that we'll be using is an RNAseq experiment of skin cancer samples from The Cancer Genome Atlas (TCGA) project (http://cancergenome.nih.gov/).\n",
    "We've already cleaned and sorted the data for you, so you can just use `data/counts.txt`\n",
    "in the book repository.\n",
    "In Chapter 2 we will be using this gene expression data to predict mortality in skin cancer patients, reproducing a simplified version of [Figures 5A and 5B](http://www.cell.com/action/showImagesData?pii=S0092-8674%2815%2900634-0) of a [paper](http://dx.doi.org/10.1016/j.cell.2015.05.044) from the TCGA consortium.\n",
    "But first we need to get our heads around the biases in our data, and think about how we could improve it.\n",
    "\n",
    "### Reading in the data with Pandas\n",
    "\n",
    "We're first going to use Pandas to read in the table of counts.\n",
    "Pandas is a Python library for data manipulation and analysis,\n",
    "with particular emphasis on tabular and time series data.\n",
    "Here, we will use it here to read in tabular data of mixed type.\n",
    "It uses the DataFrame type, which is a flexible tabular format based on the data frame object in R.\n",
    "For example the data we will read has a column of gene names (strings) and multiple columns of counts (integers), so reading it into a homogeneous array of numbers would be the wrong approach.\n",
    "Although NumPy has some support for mixed data types (called \"structured arrays\"), it is not primarily designed for\n",
    "this use case, which makes subsequent operations harder than they need to be.\n",
    "\n",
    "By reading the data in as a Pandas DataFrame we can let Pandas do all the parsing, then extract out the relevant information and store it in a more efficient data type.\n",
    "Here we are just using Pandas briefly to import data.\n",
    "In later chapters we will see a bit more of Pandas, but for details, read *Python\n",
    "for Data Analysis*, by Wes McKinney, creator of Pandas."
   ]
  },
  {
   "cell_type": "code",
   "execution_count": 25,
   "metadata": {},
   "outputs": [
    {
     "name": "stdout",
     "output_type": "stream",
     "text": [
      "       00624286-41dd-476f-a63b-d2a5f484bb45  TCGA-FS-A1Z0  TCGA-D9-A3Z1  \\\n",
      "A1BG                                1272.36        452.96        288.06   \n",
      "A1CF                                   0.00          0.00          0.00   \n",
      "A2BP1                                  0.00          0.00          0.00   \n",
      "A2LD1                                164.38        552.43        201.83   \n",
      "A2ML1                                 27.00          0.00          0.00   \n",
      "\n",
      "       02c76d24-f1d2-4029-95b4-8be3bda8fdbe  TCGA-EB-A51B  \n",
      "A1BG                                 400.11        420.46  \n",
      "A1CF                                   1.00          0.00  \n",
      "A2BP1                                  0.00          1.00  \n",
      "A2LD1                                165.12         95.75  \n",
      "A2ML1                                  0.00          8.00  \n"
     ]
    }
   ],
   "source": [
    "import numpy as np\n",
    "import pandas as pd\n",
    "\n",
    "# Import TCGA melanoma data\n",
    "filename = 'data/counts.txt'\n",
    "with open(filename, 'rt') as f:\n",
    "    data_table = pd.read_csv(f, index_col=0) # Parse file with pandas\n",
    "\n",
    "print(data_table.iloc[:5, :5])"
   ]
  },
  {
   "cell_type": "markdown",
   "metadata": {},
   "source": [
    "We can see that Pandas has kindly pulled out the header row and used it to name the columns.\n",
    "The first column gives the name of each gene, and the remaining columns represent individual samples.\n",
    "\n",
    "We will also need some corresponding metadata, including the sample information and the gene lengths."
   ]
  },
  {
   "cell_type": "code",
   "execution_count": 26,
   "metadata": {},
   "outputs": [],
   "source": [
    "# Sample names\n",
    "samples = list(data_table.columns)"
   ]
  },
  {
   "cell_type": "markdown",
   "metadata": {},
   "source": [
    "We will need some information about the lengths of the genes for our normalization.\n",
    "So that we can take advantage of some fancy pandas indexing, we're going to set\n",
    "the index of the pandas table to be the gene names in the first column."
   ]
  },
  {
   "cell_type": "code",
   "execution_count": 27,
   "metadata": {},
   "outputs": [
    {
     "name": "stdout",
     "output_type": "stream",
     "text": [
      "            GeneID  GeneLength\n",
      "GeneSymbol                    \n",
      "CPA1          1357        1724\n",
      "GUCY2D        3000        3623\n",
      "UBC           7316        2687\n",
      "C11orf95     65998        5581\n",
      "ANKMY2       57037        2611\n"
     ]
    }
   ],
   "source": [
    "# Import gene lengths\n",
    "filename = 'data/genes.csv'\n",
    "with open(filename, 'rt') as f:\n",
    "    # Parse file with pandas, index by GeneSymbol\n",
    "    gene_info = pd.read_csv(f, index_col=0)\n",
    "print(gene_info.iloc[:5, :])"
   ]
  },
  {
   "cell_type": "markdown",
   "metadata": {},
   "source": [
    "Let's check how well our gene length data matches up with our count data."
   ]
  },
  {
   "cell_type": "code",
   "execution_count": 28,
   "metadata": {},
   "outputs": [
    {
     "name": "stdout",
     "output_type": "stream",
     "text": [
      "Genes in data_table:  20500\n",
      "Genes in gene_info:  20503\n"
     ]
    }
   ],
   "source": [
    "print(\"Genes in data_table: \", data_table.shape[0])\n",
    "print(\"Genes in gene_info: \", gene_info.shape[0])"
   ]
  },
  {
   "cell_type": "markdown",
   "metadata": {},
   "source": [
    "There are more genes in our gene length data than were actually measured in the experiment.\n",
    "Let's filter so we only get the relevant genes, and we want to make sure they are\n",
    "in the same order as in our count data.\n",
    "This is where pandas indexing comes in handy!\n",
    "We can get the intersection of the gene names from our our two sources of data\n",
    "and use these to index both data sets, ensuring they have the same genes in the same order."
   ]
  },
  {
   "cell_type": "code",
   "execution_count": 29,
   "metadata": {},
   "outputs": [],
   "source": [
    "# Subset gene info to match the count data\n",
    "matched_index = pd.Index.intersection(data_table.index, gene_info.index)"
   ]
  },
  {
   "cell_type": "markdown",
   "metadata": {},
   "source": [
    "Now let's use the intersection of the gene names to index our count data."
   ]
  },
  {
   "cell_type": "code",
   "execution_count": 30,
   "metadata": {},
   "outputs": [
    {
     "name": "stdout",
     "output_type": "stream",
     "text": [
      "20500 genes measured in 375 individuals.\n"
     ]
    }
   ],
   "source": [
    "# 2D ndarray containing expression counts for each gene in each individual\n",
    "counts = np.asarray(data_table.loc[matched_index], dtype=int)\n",
    "\n",
    "gene_names = np.array(matched_index)\n",
    "\n",
    "# Check how many genes and individuals were measured\n",
    "print(f'{counts.shape[0]} genes measured in {counts.shape[1]} individuals.')"
   ]
  },
  {
   "cell_type": "markdown",
   "metadata": {},
   "source": [
    "And our gene lengths."
   ]
  },
  {
   "cell_type": "code",
   "execution_count": 31,
   "metadata": {},
   "outputs": [],
   "source": [
    "# 1D ndarray containing the lengths of each gene\n",
    "gene_lengths = np.asarray(gene_info.loc[matched_index]['GeneLength'],\n",
    "                          dtype=int)"
   ]
  },
  {
   "cell_type": "markdown",
   "metadata": {},
   "source": [
    "And let's check the dimensions of our objects."
   ]
  },
  {
   "cell_type": "code",
   "execution_count": 32,
   "metadata": {},
   "outputs": [
    {
     "name": "stdout",
     "output_type": "stream",
     "text": [
      "(20500, 375)\n",
      "(20500,)\n"
     ]
    }
   ],
   "source": [
    "print(counts.shape)\n",
    "print(gene_lengths.shape)"
   ]
  },
  {
   "cell_type": "markdown",
   "metadata": {},
   "source": [
    "As expected, they now match up nicely!\n",
    "\n",
    "## Normalization\n",
    "\n",
    "Real world data contains all kinds of measurement artifacts.\n",
    "Before doing any kind of analysis with it, it is important to take a look at\n",
    "it to determine whether some normalization is warranted.\n",
    "For example, measurements with digital thermometers may systematically vary from\n",
    "those taken with mercury thermometers and read out by a human.\n",
    "Thus, comparing samples often requires some kind of data wrangling to bring\n",
    "every measurement to a common scale.\n",
    "\n",
    "In our case, we want to make sure that any differences we uncover correspond to\n",
    "real biological differences, and not to technical artifact.\n",
    "We will consider two levels of normalization often applied jointly to gene\n",
    "expression dataset: normalization between samples (columns) and normalization\n",
    "between genes (rows).\n",
    "\n",
    "### Between samples\n",
    "\n",
    "For example, the number of counts for each individual can vary substantially in RNAseq experiments.\n",
    "Let's take a look at the distribution of expression counts over all the genes.\n",
    "First we will sum the rows to get the total counts of expression of all genes for each individual, so we can just look at the variation between individuals.\n",
    "To visualize the distribution of total counts, we will use kernel density\n",
    "estimation (KDE), a technique commonly used to smooth out histograms because it\n",
    "gives a clearer picture of the underlying distribution.\n",
    "\n",
    "Before we start, we have to do some plotting setup (which we will do in every\n",
    "chapter). See \"A quick note on plotting\" for details about what each line of code\n",
    "below does."
   ]
  },
  {
   "cell_type": "code",
   "execution_count": 33,
   "metadata": {},
   "outputs": [],
   "source": [
    "# Make all plots appear inline in the Jupyter notebook from now onwards\n",
    "%matplotlib inline\n",
    "# Use our own style file for the plots\n",
    "import matplotlib.pyplot as plt\n",
    "plt.style.use('style/elegant.mplstyle')"
   ]
  },
  {
   "cell_type": "markdown",
   "metadata": {},
   "source": [
    "> **A quick note on plotting {.callout}**\n",
    ">\n",
    "> The code above does a few neat things to make our plots prettier.\n",
    "\n",
    "> First, `%matplotlib inline` is a Jupyter notebook [magic\n",
    "> command](http://ipython.org/ipython-doc/dev/interactive/tutorial.html#magics-explained),\n",
    "> that simply makes all plots appear in the notebook rather than pop up a new\n",
    "> window. If you are running a Jupyter notebook interactively, you can use\n",
    "> `%matplotlib notebook` instead to get an interactive figure, rather than a\n",
    "> static image of each plot.\n",
    ">\n",
    "> Second, we import `matplotlib.pyplot` then direct it to use our own plotting\n",
    "> style `plt.style.use('style/elegant.mplstyle')`. You will see a block of code\n",
    "> like this before the first plot in every chapter.\n",
    ">\n",
    "> You may have seen people importing existing styles like this:\n",
    "> `plt.style.use('ggplot')`. But we wanted some particular settings, and we\n",
    "> wanted all the plots in this book to follow the same style. So we rolled our\n",
    "> own matplotlib style. To see how we did it, take a look at the style file in\n",
    "> the Elegant SciPy repository: `style/elegant.mplstyle`. For more information\n",
    "> on styles, check out the [Matplotlib documentation on style\n",
    "> sheets](http://matplotlib.org/users/style_sheets.html).\n",
    "\n",
    "Now back to plotting our counts distribution!"
   ]
  },
  {
   "cell_type": "code",
   "execution_count": 34,
   "metadata": {},
   "outputs": [
    {
     "data": {
      "image/png": "[encoded data removed]",
      "text/plain": [
       "<Figure size 432x288 with 1 Axes>"
      ]
     },
     "metadata": {},
     "output_type": "display_data"
    },
    {
     "name": "stdout",
     "output_type": "stream",
     "text": [
      "Count statistics:\n",
      "  min:  6231205\n",
      "  mean: 52995255.33866667\n",
      "  max:  103219262\n"
     ]
    }
   ],
   "source": [
    "total_counts = np.sum(counts, axis=0)  # sum columns together\n",
    "                                       # (axis=1 would sum rows)\n",
    "\n",
    "from scipy import stats\n",
    "\n",
    "# Use Gaussian smoothing to estimate the density\n",
    "density = stats.kde.gaussian_kde(total_counts)\n",
    "\n",
    "# Make values for which to estimate the density, for plotting\n",
    "x = np.arange(min(total_counts), max(total_counts), 10000)\n",
    "\n",
    "# Make the density plot\n",
    "fig, ax = plt.subplots()\n",
    "ax.plot(x, density(x))\n",
    "ax.set_xlabel(\"Total counts per individual\")\n",
    "ax.set_ylabel(\"Density\")\n",
    "\n",
    "plt.show()\n",
    "\n",
    "print(f'Count statistics:\\n  min:  {np.min(total_counts)}'\n",
    "      f'\\n  mean: {np.mean(total_counts)}'\n",
    "      f'\\n  max:  {np.max(total_counts)}')"
   ]
  },
  {
   "cell_type": "markdown",
   "metadata": {},
   "source": [
    "<!-- caption text=\"Density plot of gene expression counts per individual using KDE smoothing\" -->\n",
    "\n",
    "We can see that there is an order of magnitude difference in the total number of counts between the lowest and the highest individual.\n",
    "This means that a different number of RNAseq reads were generated for each individual.\n",
    "We say that these individuals have different library sizes.\n",
    "\n",
    "#### Normalizing library size between samples\n",
    "\n",
    "Let's take a closer look at ranges of gene expression for each individual, so when\n",
    "we apply our normalization we can see it in action. We'll subset a random sample\n",
    "of just 70 columns to keep the plotting from getting too messy."
   ]
  },
  {
   "cell_type": "code",
   "execution_count": 35,
   "metadata": {},
   "outputs": [],
   "source": [
    "# Subset data for plotting\n",
    "np.random.seed(seed=7) # Set seed so we will get consistent results\n",
    "# Randomly select 70 samples\n",
    "samples_index = np.random.choice(range(counts.shape[1]), size=70, replace=False)\n",
    "counts_subset = counts[:, samples_index]"
   ]
  },
  {
   "cell_type": "code",
   "execution_count": 36,
   "metadata": {},
   "outputs": [],
   "source": [
    "# Some custom x-axis labelling to make our plots easier to read\n",
    "def reduce_xaxis_labels(ax, factor):\n",
    "    \"\"\"Show only every ith label to prevent crowding on x-axis\n",
    "        e.g. factor = 2 would plot every second x-axis label,\n",
    "        starting at the first.\n",
    "\n",
    "    Parameters\n",
    "    ----------\n",
    "    ax : matplotlib plot axis to be adjusted\n",
    "    factor : int, factor to reduce the number of x-axis labels by\n",
    "    \"\"\"\n",
    "    plt.setp(ax.xaxis.get_ticklabels(), visible=False)\n",
    "    for label in ax.xaxis.get_ticklabels()[factor-1::factor]:\n",
    "        label.set_visible(True)"
   ]
  },
  {
   "cell_type": "code",
   "execution_count": 37,
   "metadata": {},
   "outputs": [
    {
     "data": {
      "image/png": "[encoded data removed]",
      "text/plain": [
       "<Figure size 345.6x172.8 with 1 Axes>"
      ]
     },
     "metadata": {},
     "output_type": "display_data"
    }
   ],
   "source": [
    "# Bar plot of expression counts by individual\n",
    "fig, ax = plt.subplots(figsize=(4.8, 2.4))\n",
    "\n",
    "with plt.style.context('style/thinner.mplstyle'):\n",
    "    ax.boxplot(counts_subset)\n",
    "    ax.set_xlabel(\"Individuals\")\n",
    "    ax.set_ylabel(\"Gene expression counts\")\n",
    "    reduce_xaxis_labels(ax, 5)"
   ]
  },
  {
   "cell_type": "markdown",
   "metadata": {},
   "source": [
    "<!-- caption text=\"Boxplot of gene expression counts per individual\" -->\n",
    "\n",
    "There are obviously a lot of outliers at the high expression end of the scale and a lot of variation between individuals, but pretty hard to see because everything is clustered around zero.\n",
    "So let's do log(n + 1) of our data so it's a bit easier to look at.\n",
    "Both the log function and the n + 1 step can be done using broadcasting to simplify our code and speed things up."
   ]
  },
  {
   "cell_type": "code",
   "execution_count": 38,
   "metadata": {},
   "outputs": [
    {
     "data": {
      "image/png": "[encoded data removed]",
      "text/plain": [
       "<Figure size 345.6x172.8 with 1 Axes>"
      ]
     },
     "metadata": {},
     "output_type": "display_data"
    }
   ],
   "source": [
    "# Bar plot of expression counts by individual\n",
    "fig, ax = plt.subplots(figsize=(4.8, 2.4))\n",
    "\n",
    "with plt.style.context('style/thinner.mplstyle'):\n",
    "    ax.boxplot(np.log(counts_subset + 1))\n",
    "    ax.set_xlabel(\"Individuals\")\n",
    "    ax.set_ylabel(\"log gene expression counts\")\n",
    "    reduce_xaxis_labels(ax, 5)"
   ]
  },
  {
   "cell_type": "markdown",
   "metadata": {},
   "source": [
    "<!-- caption text=\"Boxplot of gene expression counts per individual (log scale)\" -->\n",
    "\n",
    "Now let's see what happens when we normalize by library size."
   ]
  },
  {
   "cell_type": "code",
   "execution_count": 39,
   "metadata": {},
   "outputs": [
    {
     "data": {
      "image/png": "[encoded data removed]",
      "text/plain": [
       "<Figure size 345.6x172.8 with 1 Axes>"
      ]
     },
     "metadata": {},
     "output_type": "display_data"
    }
   ],
   "source": [
    "# Normalize by library size\n",
    "# Divide the expression counts by the total counts for that individual\n",
    "# Multiply by 1 million to get things back in a similar scale\n",
    "counts_lib_norm = counts / total_counts * 1000000\n",
    "# Notice how we just used broadcasting twice there!\n",
    "counts_subset_lib_norm = counts_lib_norm[:,samples_index]\n",
    "\n",
    "# Bar plot of expression counts by individual\n",
    "fig, ax = plt.subplots(figsize=(4.8, 2.4))\n",
    "\n",
    "with plt.style.context('style/thinner.mplstyle'):\n",
    "    ax.boxplot(np.log(counts_subset_lib_norm + 1))\n",
    "    ax.set_xlabel(\"Individuals\")\n",
    "    ax.set_ylabel(\"log gene expression counts\")\n",
    "    reduce_xaxis_labels(ax, 5)"
   ]
  },
  {
   "cell_type": "markdown",
   "metadata": {},
   "source": [
    "<!-- caption text=\"Boxplot of library-normalized gene expression counts per individual (log scale)\" -->\n",
    "\n",
    "Much better!\n",
    "Also notice how we used broadcasting twice there.\n",
    "Once to divide all the gene expression counts by the total for that column, and then again to multiply all the values by 1 million.\n",
    "\n",
    "Finally, let's compare our normalized data to the raw data."
   ]
  },
  {
   "cell_type": "code",
   "execution_count": 40,
   "metadata": {},
   "outputs": [],
   "source": [
    "import itertools as it\n",
    "from collections import defaultdict\n",
    "\n",
    "\n",
    "def class_boxplot(data, classes, colors=None, **kwargs):\n",
    "    \"\"\"Make a boxplot with boxes colored according to the class they belong to.\n",
    "\n",
    "    Parameters\n",
    "    ----------\n",
    "    data : list of array-like of float\n",
    "        The input data. One boxplot will be generated for each element\n",
    "        in `data`.\n",
    "    classes : list of string, same length as `data`\n",
    "        The class each distribution in `data` belongs to.\n",
    "\n",
    "    Other parameters\n",
    "    ----------------\n",
    "    kwargs : dict\n",
    "        Keyword arguments to pass on to `plt.boxplot`.\n",
    "    \"\"\"\n",
    "    all_classes = sorted(set(classes))\n",
    "    colors = plt.rcParams['axes.prop_cycle'].by_key()['color']\n",
    "    class2color = dict(zip(all_classes, it.cycle(colors)))\n",
    "\n",
    "    # map classes to data vectors\n",
    "    # other classes get an empty list at that position for offset\n",
    "    class2data = defaultdict(list)\n",
    "    for distrib, cls in zip(data, classes):\n",
    "        for c in all_classes:\n",
    "            class2data[c].append([])\n",
    "        class2data[cls][-1] = distrib\n",
    "\n",
    "    # then, do each boxplot in turn with the appropriate color\n",
    "    fig, ax = plt.subplots()\n",
    "    lines = []\n",
    "    for cls in all_classes:\n",
    "        # set color for all elements of the boxplot\n",
    "        for key in ['boxprops', 'whiskerprops', 'flierprops']:\n",
    "            kwargs.setdefault(key, {}).update(color=class2color[cls])\n",
    "        # draw the boxplot\n",
    "        box = ax.boxplot(class2data[cls], **kwargs)\n",
    "        lines.append(box['whiskers'][0])\n",
    "    ax.legend(lines, all_classes)\n",
    "    return ax"
   ]
  },
  {
   "cell_type": "markdown",
   "metadata": {},
   "source": [
    "Now we can plot a colored boxplot according to normalized vs unnormalized samples.\n",
    "We show only three samples from each class for illustration:"
   ]
  },
  {
   "cell_type": "code",
   "execution_count": 41,
   "metadata": {},
   "outputs": [
    {
     "data": {
      "image/png": "[encoded data removed]",
      "text/plain": [
       "<Figure size 432x288 with 1 Axes>"
      ]
     },
     "metadata": {},
     "output_type": "display_data"
    }
   ],
   "source": [
    "log_counts_3 = list(np.log(counts.T[:3] + 1))\n",
    "log_ncounts_3 = list(np.log(counts_lib_norm.T[:3] + 1))\n",
    "ax = class_boxplot(log_counts_3 + log_ncounts_3,\n",
    "                   ['raw counts'] * 3 + ['normalized by library size'] * 3,\n",
    "                   labels=[1, 2, 3, 1, 2, 3])\n",
    "ax.set_xlabel('sample number')\n",
    "ax.set_ylabel('log gene expression counts');"
   ]
  },
  {
   "cell_type": "markdown",
   "metadata": {},
   "source": [
    "<!-- caption text=\"Comparing raw and library normalized gene expression counts in three samples (log scale)\" -->\n",
    "\n",
    "You can see that the normalized distributions are a little bit more similar\n",
    "once we have taken library size (the sum of those distributions) into account.\n",
    "Now we are comparing like with like between the samples!\n",
    "But what about differences between the genes?\n",
    "\n",
    "### Between genes\n",
    "\n",
    "We can also get into some trouble when trying to compare different genes.\n",
    "The number of counts for a gene is related to the gene length.\n",
    "Suppose Gene B is twice as long as gene A.\n",
    "Both are expressed at similar levels in the sample, i.e. both produce a similar number of mRNA molecules.\n",
    "Remember that in RNAseq experiment, we fragment the transcripts, and sample reads from that pool of fragments.\n",
    "So if a gene is twice as long, it'll produce twice as many fragments, and we are twice as likely to sample it.\n",
    "Therefore you would expect gene B to have about twice as many counts as gene A.\n",
    "If we want to compare the expression levels of different genes, we will have to do some more normalization.\n",
    "\n",
    "<img src=\"../figures/gene_length_counts.png\"/>\n",
    "<!-- caption text=\"Relationship between counts and gene length\" -->\n",
    "\n",
    "Let's see if the relationship between gene length and counts plays out in our data set."
   ]
  },
  {
   "cell_type": "code",
   "execution_count": 42,
   "metadata": {},
   "outputs": [],
   "source": [
    "def binned_boxplot(x, y, *,  # check out this Python 3 exclusive! (*see tip box)\n",
    "                   xlabel='gene length (log scale)',\n",
    "                   ylabel='average log counts'):\n",
    "    \"\"\"Plot the distribution of `y` dependent on `x` using many boxplots.\n",
    "\n",
    "    Note: all inputs are expected to be log-scaled.\n",
    "\n",
    "    Parameters\n",
    "    ----------\n",
    "    x: 1D array of float\n",
    "        Independent variable values.\n",
    "    y: 1D array of float\n",
    "        Dependent variable values.\n",
    "    \"\"\"\n",
    "    # Define bins of `x` depending on density of observations\n",
    "    x_hist, x_bins = np.histogram(x, bins='auto')\n",
    "\n",
    "    # Use `np.digitize` to number the bins\n",
    "    # Discard the last bin edge because it breaks the right-open assumption\n",
    "    # of `digitize`. The max observation correctly goes into the last bin.\n",
    "    x_bin_idxs = np.digitize(x, x_bins[:-1])\n",
    "\n",
    "    # Use those indices to create a list of arrays, each containing the `y`\n",
    "    # values corresponding to `x`s in that bin. This is the input format\n",
    "    # expected by `plt.boxplot`\n",
    "    binned_y = [y[x_bin_idxs == i]\n",
    "                for i in range(np.max(x_bin_idxs))]\n",
    "    fig, ax = plt.subplots(figsize=(4.8,1))\n",
    "\n",
    "    # Make the x-axis labels using the bin centers\n",
    "    x_bin_centers = (x_bins[1:] + x_bins[:-1]) / 2\n",
    "    x_ticklabels = np.round(np.exp(x_bin_centers)).astype(int)\n",
    "\n",
    "    # make the boxplot\n",
    "    ax.boxplot(binned_y, labels=x_ticklabels)\n",
    "\n",
    "    # show only every 10th label to prevent crowding on x-axis\n",
    "    reduce_xaxis_labels(ax, 10)\n",
    "\n",
    "    # Adjust the axis names\n",
    "    ax.set_xlabel(xlabel)\n",
    "    ax.set_ylabel(ylabel);"
   ]
  },
  {
   "cell_type": "markdown",
   "metadata": {},
   "source": [
    "> **Python 3 Tip: using `*` to create keyword-only arguments {.callout}**\n",
    ">\n",
    "> Since version 3.0 Python allows\n",
    "> [\"keyword-only\" arguments](https://www.python.org/dev/peps/pep-3102/).\n",
    "> These are arguments that you have to call using a keyword, rather than relying\n",
    "> on position alone.\n",
    "> For example, with the `binned_boxplot` function we just wrote, you can call it\n",
    "> like this:\n",
    ">\n",
    ">     >>> binned_boxplot(x, y, xlabel='my x label', ylabel='my y label')\n",
    ">\n",
    "> but not this, which would have been valid Python 2, but raises an error in\n",
    "> Python 3:\n",
    ">\n",
    ">     >>> binned_boxplot(x, y, 'my x label', 'my y label')\n",
    ">\n",
    ">     ---------------------------------------------------------------------------\n",
    ">     TypeError                                 Traceback (most recent call last)\n",
    ">     <ipython-input-58-7a118d2d5750in <module>()\n",
    ">         1 x_vals = [1, 2, 3, 4, 5]\n",
    ">         2 y_vals = [1, 2, 3, 4, 5]\n",
    ">     ----3 binned_boxplot(x, y, 'my x label', 'my y label')\n",
    ">\n",
    ">     TypeError: binned_boxplot() takes 2 positional arguments but 4 were given\n",
    ">\n",
    "> The idea is to prevent you from accidentally doing something like this:\n",
    ">\n",
    ">     binned_boxplot(x, y, 'my y label')\n",
    ">\n",
    "> which would give you your y label on the x axis, and is a common error for\n",
    "> signatures with many optional parameters that don't have an obvious ordering."
   ]
  },
  {
   "cell_type": "code",
   "execution_count": 43,
   "metadata": {},
   "outputs": [],
   "source": [
    "log_counts = np.log(counts_lib_norm + 1)\n",
    "mean_log_counts = np.mean(log_counts, axis=1)  # across samples\n",
    "log_gene_lengths = np.log(gene_lengths)"
   ]
  },
  {
   "cell_type": "code",
   "execution_count": 44,
   "metadata": {},
   "outputs": [
    {
     "data": {
      "image/png": "[encoded data removed]",
      "text/plain": [
       "<Figure size 1440x300 with 1 Axes>"
      ]
     },
     "metadata": {},
     "output_type": "display_data"
    }
   ],
   "source": [
    "with plt.style.context('style/thinner.mplstyle'):\n",
    "    binned_boxplot(x=log_gene_lengths, y=mean_log_counts)"
   ]
  },
  {
   "cell_type": "markdown",
   "metadata": {},
   "source": [
    "<!-- caption text=\"The relationship between gene length and average expression (log scale)\" -->\n",
    "\n",
    "We can see that the longer a gene is, the higher its measured counts! As\n",
    "explained above, this is an artifact of the technique, not a biological signal!\n",
    "How do we account for this?\n",
    "\n",
    "### Normalizing over samples and genes: RPKM\n",
    "\n",
    "One of the simplest normalization methods for RNAseq data is RPKM: reads per\n",
    "kilobase transcript per million reads.\n",
    "RPKM puts together the ideas of normalising by sample and by gene.\n",
    "When we calculate RPKM, we are normalizing for both the library size (the sum of each column)\n",
    "and the gene length.\n",
    "\n",
    "To work through how RPKM is derived, let's define the following values:\n",
    "\n",
    "- $C$ = Number of reads mapped to a gene\n",
    "- $L$ = exon length in base-pairs for a gene\n",
    "- $N$ = Total mapped reads in the experiment\n",
    "\n",
    "First, let's calculate reads per kilobase.\n",
    "\n",
    "Reads per base would be:\n",
    "$\\frac{C}{L}$\n",
    "\n",
    "The formula asks for reads per kilobase instead of reads per base.\n",
    "One kilobase = 1000 bases, so we'll need to divide length (L) by 1000.\n",
    "\n",
    "Reads per kilobase would be:\n",
    "\n",
    "$\\frac{C}{L/1000}  = \\frac{10^3C}{L}$\n",
    "\n",
    "Next, we need to normalize by library size.\n",
    "If we just divide by the number of mapped reads we get:\n",
    "\n",
    "$ \\frac{10^3C}{LN} $\n",
    "\n",
    "But biologists like thinking in millions of reads so that the numbers don't get\n",
    "too big. Counting per million reads we get:\n",
    "\n",
    "$ \\frac{10^3C}{L(N/10^6)} = \\frac{10^9C}{LN}$\n",
    "\n",
    "\n",
    "In summary, to calculate reads per kilobase transcript per million reads:\n",
    "$RPKM = \\frac{10^9C}{LN}$\n",
    "\n",
    "Now let's implement RPKM over the entire counts array."
   ]
  },
  {
   "cell_type": "code",
   "execution_count": 45,
   "metadata": {},
   "outputs": [],
   "source": [
    "# Make our variable names the same as the RPKM formula so we can compare easily\n",
    "C = counts\n",
    "N = counts.sum(axis=0)  # sum each column to get total reads per sample\n",
    "L = gene_lengths  # lengths for each gene, matching rows in `C`"
   ]
  },
  {
   "cell_type": "markdown",
   "metadata": {},
   "source": [
    "First, we multiply by 10^9.\n",
    "Because counts (C) is an ndarray, we can use broadcasting.\n",
    "If we multiple an ndarray by a single value,\n",
    "that value is broadcast over the entire array."
   ]
  },
  {
   "cell_type": "code",
   "execution_count": 46,
   "metadata": {},
   "outputs": [],
   "source": [
    "# Multiply all counts by 10^9\n",
    "C_tmp = 10^9 * C"
   ]
  },
  {
   "cell_type": "markdown",
   "metadata": {},
   "source": [
    "Next we need to divide by the gene length.\n",
    "Broadcasting a single value over a 2D array was pretty clear.\n",
    "We were just multiplying every element in the array by the value.\n",
    "But what happens when we need to divide a 2D array by a 1D array?\n",
    "\n",
    "#### Broadcasting rules\n",
    "\n",
    "Broadcasting allows calculations between ndarrays that have different shapes.\n",
    "Numpy uses broadcasting rules to make these manipulations a little easier.\n",
    "When two arrays have the same number of dimensions,\n",
    "broadcasting can occur if the sizes of each dimension match,\n",
    "or one of them is equal to 1.\n",
    "If arrays have different numbers of dimensions, then $(1,)$ is prepended to the\n",
    "shorter array until the numbers match, and then the standard broadcasting rules\n",
    "apply.\n",
    "\n",
    "For example, suppose we have two ndarrays, A and B, with shapes $(5, 2)$ and\n",
    "$(2,)$.\n",
    "We define the product `A * B` using broadcasting.\n",
    "B has fewer dimensions than A, so during the calculation,\n",
    "a new dimension is prepended to B with value 1, so B's new shape is $(1, 2)$.\n",
    "Finally, where B's shape doesn't match A's, it is *multiplied* by stacking enough\n",
    "versions of B, giving the shape $(5, 2)$. This is done \"virtually\", without using\n",
    "up any additional memory. At this point, the product is just an element-wise\n",
    "multiplication, giving an output array of the same shape as A.\n",
    "\n",
    "Now let's say we have another array, C, of shape $(2, 5)$. To multiply (or add) C \n",
    "to B, we might try to prepend $(1,)$ to the shape of B, but in that case, we still\n",
    "end up with incompatible shapes: $(2, 5)$ and $(1, 2)$. If we want the arrays to\n",
    "broadcast, we have to *ap*pend a dimension to B, manually. Then, we end up with\n",
    "$(2, 5)$ and $(2, 1)$, and broadcasting can proceed.\n",
    "\n",
    "In NumPy, we can explicitly add a new dimension to B using `np.newaxis`.\n",
    "Let's see this in our normalization by RPKM.\n",
    "\n",
    "Let's look at the dimensions of our arrays."
   ]
  },
  {
   "cell_type": "code",
   "execution_count": 47,
   "metadata": {},
   "outputs": [
    {
     "name": "stdout",
     "output_type": "stream",
     "text": [
      "C_tmp.shape (20500, 375)\n",
      "L.shape (20500,)\n"
     ]
    }
   ],
   "source": [
    "print('C_tmp.shape', C_tmp.shape)\n",
    "print('L.shape', L.shape)"
   ]
  },
  {
   "cell_type": "markdown",
   "metadata": {},
   "source": [
    "We can see that `C_tmp` has 2 dimensions, while L has one.\n",
    "So during broadcasting, an additional dimension will be prepended to L.\n",
    "Then we will have:"
   ]
  },
  {
   "cell_type": "markdown",
   "metadata": {},
   "source": [
    "```\n",
    "C_tmp.shape (20500, 375)\n",
    "L.shape (1, 20500)\n",
    "```\n"
   ]
  },
  {
   "cell_type": "markdown",
   "metadata": {},
   "source": [
    "The dimensions won't match!\n",
    "We want to broadcast L over the first dimension of `C_tmp`,\n",
    "so we need to adjust the dimensions of L ourselves."
   ]
  },
  {
   "cell_type": "code",
   "execution_count": 48,
   "metadata": {},
   "outputs": [
    {
     "name": "stdout",
     "output_type": "stream",
     "text": [
      "C_tmp.shape (20500, 375)\n",
      "L.shape (20500, 1)\n"
     ]
    }
   ],
   "source": [
    "L = L[:, np.newaxis] # append a dimension to L, with value 1\n",
    "print('C_tmp.shape', C_tmp.shape)\n",
    "print('L.shape', L.shape)"
   ]
  },
  {
   "cell_type": "markdown",
   "metadata": {},
   "source": [
    "Now that our dimensions match or are equal to 1, we can broadcast."
   ]
  },
  {
   "cell_type": "code",
   "execution_count": 49,
   "metadata": {},
   "outputs": [],
   "source": [
    "# Divide each row by the gene length for that gene (L)\n",
    "C_tmp = C_tmp / L"
   ]
  },
  {
   "cell_type": "markdown",
   "metadata": {},
   "source": [
    "Finally we need to normalize by the library size,\n",
    "the total number of counts for that column.\n",
    "Remember that we have already calculated N with:"
   ]
  },
  {
   "cell_type": "markdown",
   "metadata": {},
   "source": [
    "```\n",
    "N = counts.sum(axis=0) # sum each column to get total reads per sample\n",
    "```\n"
   ]
  },
  {
   "cell_type": "code",
   "execution_count": 50,
   "metadata": {},
   "outputs": [
    {
     "name": "stdout",
     "output_type": "stream",
     "text": [
      "C_tmp.shape (20500, 375)\n",
      "N.shape (375,)\n"
     ]
    }
   ],
   "source": [
    "# Check the shapes of C_tmp and N\n",
    "print('C_tmp.shape', C_tmp.shape)\n",
    "print('N.shape', N.shape)"
   ]
  },
  {
   "cell_type": "markdown",
   "metadata": {},
   "source": [
    "Once we trigger broadcasting, an additional dimension will be\n",
    "prepended to N:\n",
    "\n",
    "`N.shape (1, 375)`\n",
    "\n",
    "The dimensions will match so we don't have to do anything.\n",
    "However, for readability, it can be useful to add the extra dimension to N anyway."
   ]
  },
  {
   "cell_type": "code",
   "execution_count": 51,
   "metadata": {},
   "outputs": [
    {
     "name": "stdout",
     "output_type": "stream",
     "text": [
      "C_tmp.shape (20500, 375)\n",
      "N.shape (1, 375)\n"
     ]
    }
   ],
   "source": [
    "# Divide each column by the total counts for that column (N)\n",
    "N = N[np.newaxis, :]\n",
    "print('C_tmp.shape', C_tmp.shape)\n",
    "print('N.shape', N.shape)"
   ]
  },
  {
   "cell_type": "code",
   "execution_count": 52,
   "metadata": {},
   "outputs": [],
   "source": [
    "# Divide each column by the total counts for that column (N)\n",
    "rpkm_counts = C_tmp / N"
   ]
  },
  {
   "cell_type": "markdown",
   "metadata": {},
   "source": [
    "Let's put this in a function so we can reuse it."
   ]
  },
  {
   "cell_type": "code",
   "execution_count": 53,
   "metadata": {},
   "outputs": [],
   "source": [
    "def rpkm(counts, lengths):\n",
    "    \"\"\"Calculate reads per kilobase transcript per million reads.\n",
    "\n",
    "    RPKM = (10^9 * C) / (N * L)\n",
    "\n",
    "    Where:\n",
    "    C = Number of reads mapped to a gene\n",
    "    N = Total mapped reads in the experiment\n",
    "    L = Exon length in base pairs for a gene\n",
    "\n",
    "    Parameters\n",
    "    ----------\n",
    "    counts: array, shape (N_genes, N_samples)\n",
    "        RNAseq (or similar) count data where columns are individual samples\n",
    "        and rows are genes.\n",
    "    lengths: array, shape (N_genes,)\n",
    "        Gene lengths in base pairs in the same order\n",
    "        as the rows in counts.\n",
    "\n",
    "    Returns\n",
    "    -------\n",
    "    normed : array, shape (N_genes, N_samples)\n",
    "        The RPKM normalized counts matrix.\n",
    "    \"\"\"\n",
    "    N = np.sum(counts, axis=0)  # sum each column to get total reads per sample\n",
    "    L = lengths\n",
    "    C = counts\n",
    "\n",
    "    normed = 1e9 * C / (N[np.newaxis, :] * L[:, np.newaxis])\n",
    "\n",
    "    return(normed)"
   ]
  },
  {
   "cell_type": "code",
   "execution_count": 54,
   "metadata": {},
   "outputs": [],
   "source": [
    "counts_rpkm = rpkm(counts, gene_lengths)"
   ]
  },
  {
   "cell_type": "markdown",
   "metadata": {},
   "source": [
    "#### RPKM between gene normalization\n",
    "\n",
    "Let's see the RPKM normalization's effect in action. First, as a reminder, here's\n",
    "the distribution of mean log counts as a function of gene length:"
   ]
  },
  {
   "cell_type": "code",
   "execution_count": 55,
   "metadata": {},
   "outputs": [
    {
     "data": {
      "image/png": "[encoded data removed]",
      "text/plain": [
       "<Figure size 1440x300 with 1 Axes>"
      ]
     },
     "metadata": {},
     "output_type": "display_data"
    }
   ],
   "source": [
    "log_counts = np.log(counts + 1)\n",
    "mean_log_counts = np.mean(log_counts, axis=1)\n",
    "log_gene_lengths = np.log(gene_lengths)\n",
    "\n",
    "with plt.style.context('style/thinner.mplstyle'):\n",
    "    binned_boxplot(x=log_gene_lengths, y=mean_log_counts)"
   ]
  },
  {
   "cell_type": "markdown",
   "metadata": {},
   "source": [
    "<!-- caption text=\"The relationship between gene length and average expression before RPKM normalization (log scale)\" -->\n",
    "\n",
    "Now, the same plot with the RPKM-normalized values:"
   ]
  },
  {
   "cell_type": "code",
   "execution_count": 56,
   "metadata": {},
   "outputs": [
    {
     "data": {
      "image/png": "[encoded data removed]",
      "text/plain": [
       "<Figure size 1440x300 with 1 Axes>"
      ]
     },
     "metadata": {},
     "output_type": "display_data"
    }
   ],
   "source": [
    "log_counts = np.log(counts_rpkm + 1)\n",
    "mean_log_counts = np.mean(log_counts, axis=1)\n",
    "log_gene_lengths = np.log(gene_lengths)\n",
    "\n",
    "with plt.style.context('style/thinner.mplstyle'):\n",
    "    binned_boxplot(x=log_gene_lengths, y=mean_log_counts)"
   ]
  },
  {
   "cell_type": "markdown",
   "metadata": {},
   "source": [
    "<!-- caption text=\"The relationship between gene length and average expression after RPKM normalization (log scale)\" -->\n",
    "\n",
    "You can see that the mean expression counts have flattened quite a bit,\n",
    "especially for genes larger than about 3,000 base pairs.\n",
    "(Smaller genes still appear to have low expression — these may be too small for\n",
    "the statistical power of the RPKM method.)\n",
    "\n",
    "RPKM normalization can be useful to compare the expression profile of different genes.\n",
    "We've already seen that longer genes have higher counts, but this doesn't mean their expression level is actually higher.\n",
    "Let's choose a short gene and a long gene and compare their counts before and after RPKM normalization to see what we mean."
   ]
  },
  {
   "cell_type": "code",
   "execution_count": 57,
   "metadata": {},
   "outputs": [
    {
     "data": {
      "image/png": "[encoded data removed]",
      "text/plain": [
       "<Figure size 432x288 with 1 Axes>"
      ]
     },
     "metadata": {},
     "output_type": "display_data"
    }
   ],
   "source": [
    "gene_idxs = np.array([80, 186])\n",
    "gene1, gene2 = gene_names[gene_idxs]\n",
    "len1, len2 = gene_lengths[gene_idxs]\n",
    "gene_labels = [f'{gene1}, {len1}bp', f'{gene2}, {len2}bp']\n",
    "\n",
    "log_counts = list(np.log(counts[gene_idxs] + 1))\n",
    "log_ncounts = list(np.log(counts_rpkm[gene_idxs] + 1))\n",
    "\n",
    "ax = class_boxplot(log_counts,\n",
    "                   ['raw counts'] * 3,\n",
    "                   labels=gene_labels)\n",
    "ax.set_xlabel('Genes')\n",
    "ax.set_ylabel('log gene expression counts over all samples');"
   ]
  },
  {
   "cell_type": "markdown",
   "metadata": {},
   "source": [
    "<!-- caption text=\"Comparing expression of two genes before RPKM normalization\" -->\n",
    "\n",
    "If we look just at the raw counts, it looks like the longer Gene B is expressed\n",
    "slightly more than Gene A.\n",
    "But, after RPKM normalization, a different picture emerges:"
   ]
  },
  {
   "cell_type": "code",
   "execution_count": 58,
   "metadata": {},
   "outputs": [
    {
     "data": {
      "image/png": "[encoded data removed]",
      "text/plain": [
       "<Figure size 432x288 with 1 Axes>"
      ]
     },
     "metadata": {},
     "output_type": "display_data"
    }
   ],
   "source": [
    "ax = class_boxplot(log_ncounts,\n",
    "                   ['RPKM normalized'] * 3,\n",
    "                   labels=gene_labels)\n",
    "ax.set_xlabel('Genes')\n",
    "ax.set_ylabel('log RPKM gene expression counts over all samples');"
   ]
  },
  {
   "cell_type": "markdown",
   "metadata": {},
   "source": [
    "<!-- caption text=\"Comparing expression of two genes after RPKM normalization\" -->\n",
    "\n",
    "Now it looks like gene A is actually expressed at a much higher level than gene B.\n",
    "This is because RPKM includes normalization for gene length, so we can now directly compare between genes of different lengths.\n",
    "\n",
    "## Taking stock\n",
    "\n",
    "So far we have:\n",
    "- imported data using Pandas;\n",
    "- gotten to know the key NumPy object class: the ndarray; and\n",
    "- used the power of broadcasting to make our calculations more elegant.\n",
    "\n",
    "In Chapter 2 we will continue working with the same data set, implementing a\n",
    "more sophisticated normalization technique, then using clustering to make some\n",
    "predictions about mortality in skin cancer patients."
   ]
  },
  {
   "cell_type": "code",
   "execution_count": null,
   "metadata": {},
   "outputs": [],
   "source": []
  }
 ],
 "metadata": {
  "kernelspec": {
   "display_name": "Python 3",
   "language": "python",
   "name": "python3"
  },
  "language_info": {
   "codemirror_mode": {
    "name": "ipython",
    "version": 3
   },
   "file_extension": ".py",
   "mimetype": "text/x-python",
   "name": "python",
   "nbconvert_exporter": "python",
   "pygments_lexer": "ipython3",
   "version": "3.6.8"
  }
 },
 "nbformat": 4,
 "nbformat_minor": 2
}
